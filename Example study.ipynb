{
 "cells": [
  {
   "cell_type": "code",
   "execution_count": 1,
   "metadata": {},
   "outputs": [],
   "source": [
    "import numpy as np\n",
    "import capytaine as cpt\n",
    "from hinge_barge import HingeBarge, RectangleParams"
   ]
  },
  {
   "cell_type": "code",
   "execution_count": 2,
   "metadata": {},
   "outputs": [
    {
     "data": {
      "text/plain": [
       "'1.1'"
      ]
     },
     "execution_count": 2,
     "metadata": {},
     "output_type": "execute_result"
    }
   ],
   "source": [
    "# Which version of Capytaine has been used\n",
    "cpt.__version__"
   ]
  },
  {
   "cell_type": "code",
   "execution_count": 3,
   "metadata": {},
   "outputs": [],
   "source": [
    "resolution = 10  # in panels per meter\n",
    "\n",
    "body_1_params = RectangleParams(\n",
    "    name=\"body_1\",\n",
    "    shape=(0.68, 0.4, 0.1),\n",
    "    geometric_center=(0.0, 0.0, 0.0),\n",
    "    center_of_mass=(0.0, 0.0, -0.025),\n",
    "    resolution=resolution,\n",
    ")\n",
    "\n",
    "body_2_params = RectangleParams(\n",
    "    name=\"body_2\",\n",
    "    shape=(0.68, 0.4, 0.1),\n",
    "    geometric_center=(0.0, 0.0, 0.0),\n",
    "    center_of_mass=(0.0, 0.0, 0.0),\n",
    "    resolution=resolution,\n",
    ")\n",
    "\n",
    "damping_plate_params = RectangleParams(\n",
    "    name=\"damping_plate\",\n",
    "    shape=(0.48, 0.4, 0.01),\n",
    "    geometric_center=(0.0, 0.0, -0.227),\n",
    "    center_of_mass=(0.0, 0.0, -0.227),\n",
    "    resolution=resolution,\n",
    ")\n",
    "\n",
    "body_3_params = RectangleParams(\n",
    "    name=\"body_3\",\n",
    "    shape=(1.00, 0.4, 0.10),\n",
    "    geometric_center=(0.0, 0.0, 0.0),\n",
    "    center_of_mass=(0.0, 0.0, -0.025),\n",
    "    resolution=resolution,\n",
    ")"
   ]
  },
  {
   "cell_type": "code",
   "execution_count": 4,
   "metadata": {},
   "outputs": [],
   "source": [
    "hb = HingeBarge(\n",
    "    bodies=[[body_1_params], [body_2_params, damping_plate_params], [body_3_params]],\n",
    "    dofs_names=[\"Surge\", \"Sway\", \"Heave\", \"Roll\", \"Pitch\", \"Yaw\", \"body_1__Relative_Pitch\", \"body_3__Relative_Pitch\"],\n",
    "    distance_between_bodies=0.06,\n",
    ")"
   ]
  },
  {
   "cell_type": "code",
   "execution_count": 5,
   "metadata": {},
   "outputs": [
    {
     "data": {
      "text/html": [
       "<pre>&lt;xarray.DataArray (influenced_dof: 8, radiating_dof: 8)&gt;\n",
       "array([[ 49.364     ,   0.        ,   0.        ,   0.        ,\n",
       "          0.        ,   0.        ,   0.        ,   0.        ],\n",
       "       [  0.        ,  49.364     ,   0.        ,   0.        ,\n",
       "          0.        ,  61.44752   ,   0.        ,   0.        ],\n",
       "       [  0.        ,   0.        ,  49.364     ,   0.        ,\n",
       "        -61.44752   ,   0.        ,   5.1578    , -10.865     ],\n",
       "       [  0.        ,   0.        ,   0.        ,   0.77074107,\n",
       "          0.        ,   0.        ,   0.        ,   0.        ],\n",
       "       [  0.        ,   0.        , -61.44752   ,   0.        ,\n",
       "        102.30110747,   0.        ,  -1.19616817,  23.25092917],\n",
       "       [  0.        ,  61.44752   ,   0.        ,   0.        ,\n",
       "          0.        , 102.84673973,   0.        ,   0.        ],\n",
       "       [  0.        ,   0.        ,   5.1578    ,   0.        ,\n",
       "         -1.19616817,   0.        ,   2.46586983,   0.        ],\n",
       "       [  0.        ,   0.        , -10.865     ,   0.        ,\n",
       "         23.25092917,   0.        ,   0.        ,   7.49667917]])\n",
       "Coordinates:\n",
       "  * influenced_dof  (influenced_dof) &lt;U22 &#x27;Surge&#x27; ... &#x27;body_3__Relative_Pitch&#x27;\n",
       "  * radiating_dof   (radiating_dof) &lt;U22 &#x27;Surge&#x27; ... &#x27;body_3__Relative_Pitch&#x27;</pre>"
      ],
      "text/plain": [
       "<xarray.DataArray (influenced_dof: 8, radiating_dof: 8)>\n",
       "array([[ 49.364     ,   0.        ,   0.        ,   0.        ,\n",
       "          0.        ,   0.        ,   0.        ,   0.        ],\n",
       "       [  0.        ,  49.364     ,   0.        ,   0.        ,\n",
       "          0.        ,  61.44752   ,   0.        ,   0.        ],\n",
       "       [  0.        ,   0.        ,  49.364     ,   0.        ,\n",
       "        -61.44752   ,   0.        ,   5.1578    , -10.865     ],\n",
       "       [  0.        ,   0.        ,   0.        ,   0.77074107,\n",
       "          0.        ,   0.        ,   0.        ,   0.        ],\n",
       "       [  0.        ,   0.        , -61.44752   ,   0.        ,\n",
       "        102.30110747,   0.        ,  -1.19616817,  23.25092917],\n",
       "       [  0.        ,  61.44752   ,   0.        ,   0.        ,\n",
       "          0.        , 102.84673973,   0.        ,   0.        ],\n",
       "       [  0.        ,   0.        ,   5.1578    ,   0.        ,\n",
       "         -1.19616817,   0.        ,   2.46586983,   0.        ],\n",
       "       [  0.        ,   0.        , -10.865     ,   0.        ,\n",
       "         23.25092917,   0.        ,   0.        ,   7.49667917]])\n",
       "Coordinates:\n",
       "  * influenced_dof  (influenced_dof) <U22 'Surge' ... 'body_3__Relative_Pitch'\n",
       "  * radiating_dof   (radiating_dof) <U22 'Surge' ... 'body_3__Relative_Pitch'"
      ]
     },
     "execution_count": 5,
     "metadata": {},
     "output_type": "execute_result"
    }
   ],
   "source": [
    "hb.compute_hydrostatics(rho_water=1025.0)\n",
    "hb.mass"
   ]
  },
  {
   "cell_type": "code",
   "execution_count": 6,
   "metadata": {},
   "outputs": [
    {
     "data": {
      "text/html": [
       "<pre>&lt;xarray.DataArray &#x27;added_mass&#x27; (radiating_dof: 8, influenced_dof: 8)&gt;\n",
       "array([[ 5.58872159e+00,  6.10852099e-07, -1.05897283e-01,\n",
       "         3.17650799e-06,  7.98668922e+00,  1.04016473e-06,\n",
       "         1.77734854e+00,  2.97734848e+00],\n",
       "       [-2.34802446e-07,  2.19897884e+01, -1.23754430e-04,\n",
       "        -2.19500284e+00,  1.50524548e-04,  2.73612737e+01,\n",
       "        -1.30262719e-05,  2.49020388e-05],\n",
       "       [-1.45194864e-01, -2.73367671e-07,  3.34534235e+02,\n",
       "        -1.42223508e-06, -4.17213452e+02, -4.65421256e-07,\n",
       "         2.98038631e+01, -6.74197792e+01],\n",
       "       [ 1.95797106e-07, -1.41880185e+00,  1.73736190e-04,\n",
       "         1.31383960e+00, -2.14388940e-04, -1.82831821e+00,\n",
       "         1.72152409e-05, -3.55102506e-05],\n",
       "       [ 5.49136579e+00,  5.43877620e-07, -4.17604336e+02,\n",
       "         2.82901929e-06,  6.36832463e+02,  9.26020604e-07,\n",
       "        -1.52144779e+01,  1.27778802e+02],\n",
       "       [ 5.28398191e-07,  2.73619910e+01,  3.89902311e-04,\n",
       "        -2.78910945e+00, -4.76798792e-04,  4.43070073e+01,\n",
       "         3.99055322e-05, -7.90964005e-05],\n",
       "       [ 1.17070105e+00,  9.42329153e-09,  2.97030611e+01,\n",
       "         4.91908014e-08, -1.50682581e+01,  1.60569714e-08,\n",
       "         9.64229132e+00, -7.37131016e-01],\n",
       "       [ 2.08651882e+00,  8.39105418e-08, -6.75220571e+01,\n",
       "         4.36236395e-07,  1.27874361e+02,  1.42850742e-07,\n",
       "        -7.52260024e-01,  3.49898229e+01]])\n",
       "Coordinates:\n",
       "  * influenced_dof  (influenced_dof) object &#x27;Surge&#x27; ... &#x27;body_3__Relative_Pitch&#x27;\n",
       "  * radiating_dof   (radiating_dof) object &#x27;Surge&#x27; ... &#x27;body_3__Relative_Pitch&#x27;\n",
       "    rho             float64 1.025e+03\n",
       "    body_name       &lt;U11 &#x27;hinge_barge&#x27;\n",
       "    omega           float64 2.0\n",
       "    g               float64 9.81\n",
       "    water_depth     float64 inf</pre>"
      ],
      "text/plain": [
       "<xarray.DataArray 'added_mass' (radiating_dof: 8, influenced_dof: 8)>\n",
       "array([[ 5.58872159e+00,  6.10852099e-07, -1.05897283e-01,\n",
       "         3.17650799e-06,  7.98668922e+00,  1.04016473e-06,\n",
       "         1.77734854e+00,  2.97734848e+00],\n",
       "       [-2.34802446e-07,  2.19897884e+01, -1.23754430e-04,\n",
       "        -2.19500284e+00,  1.50524548e-04,  2.73612737e+01,\n",
       "        -1.30262719e-05,  2.49020388e-05],\n",
       "       [-1.45194864e-01, -2.73367671e-07,  3.34534235e+02,\n",
       "        -1.42223508e-06, -4.17213452e+02, -4.65421256e-07,\n",
       "         2.98038631e+01, -6.74197792e+01],\n",
       "       [ 1.95797106e-07, -1.41880185e+00,  1.73736190e-04,\n",
       "         1.31383960e+00, -2.14388940e-04, -1.82831821e+00,\n",
       "         1.72152409e-05, -3.55102506e-05],\n",
       "       [ 5.49136579e+00,  5.43877620e-07, -4.17604336e+02,\n",
       "         2.82901929e-06,  6.36832463e+02,  9.26020604e-07,\n",
       "        -1.52144779e+01,  1.27778802e+02],\n",
       "       [ 5.28398191e-07,  2.73619910e+01,  3.89902311e-04,\n",
       "        -2.78910945e+00, -4.76798792e-04,  4.43070073e+01,\n",
       "         3.99055322e-05, -7.90964005e-05],\n",
       "       [ 1.17070105e+00,  9.42329153e-09,  2.97030611e+01,\n",
       "         4.91908014e-08, -1.50682581e+01,  1.60569714e-08,\n",
       "         9.64229132e+00, -7.37131016e-01],\n",
       "       [ 2.08651882e+00,  8.39105418e-08, -6.75220571e+01,\n",
       "         4.36236395e-07,  1.27874361e+02,  1.42850742e-07,\n",
       "        -7.52260024e-01,  3.49898229e+01]])\n",
       "Coordinates:\n",
       "  * influenced_dof  (influenced_dof) object 'Surge' ... 'body_3__Relative_Pitch'\n",
       "  * radiating_dof   (radiating_dof) object 'Surge' ... 'body_3__Relative_Pitch'\n",
       "    rho             float64 1.025e+03\n",
       "    body_name       <U11 'hinge_barge'\n",
       "    omega           float64 2.0\n",
       "    g               float64 9.81\n",
       "    water_depth     float64 inf"
      ]
     },
     "execution_count": 6,
     "metadata": {},
     "output_type": "execute_result"
    }
   ],
   "source": [
    "hb.compute_hydrodynamics(\n",
    "    omega_range=np.linspace(2, 6, 30),\n",
    "    wave_direction_range=[0.0],\n",
    "    rho_water=1025.0,\n",
    ")\n",
    "hb.dataset[\"added_mass\"].sel(omega=2.0)"
   ]
  },
  {
   "cell_type": "code",
   "execution_count": 7,
   "metadata": {},
   "outputs": [
    {
     "data": {
      "text/html": [
       "<pre>&lt;xarray.DataArray &#x27;motion&#x27; (wave_direction: 1, radiating_dof: 8)&gt;\n",
       "array([[-2.06603891e-02+2.17268448e-02j,  1.60732612e-06+5.25458942e-07j,\n",
       "         7.65109364e-02+3.54593857e-03j,  5.02574891e-07+3.83430519e-08j,\n",
       "         2.79478629e-02-3.44077510e-04j, -1.16581582e-06-3.66655709e-07j,\n",
       "         2.76015058e-01-1.50525192e-01j, -1.50938628e-02+1.18369765e-03j]])\n",
       "Coordinates:\n",
       "  * wave_direction  (wave_direction) float64 0.0\n",
       "  * radiating_dof   (radiating_dof) &lt;U22 &#x27;Surge&#x27; ... &#x27;body_3__Relative_Pitch&#x27;\n",
       "    rho             float64 1.025e+03\n",
       "    body_name       &lt;U11 &#x27;hinge_barge&#x27;\n",
       "    omega           float64 2.0\n",
       "    g               float64 9.81\n",
       "    water_depth     float64 inf</pre>"
      ],
      "text/plain": [
       "<xarray.DataArray 'motion' (wave_direction: 1, radiating_dof: 8)>\n",
       "array([[-2.06603891e-02+2.17268448e-02j,  1.60732612e-06+5.25458942e-07j,\n",
       "         7.65109364e-02+3.54593857e-03j,  5.02574891e-07+3.83430519e-08j,\n",
       "         2.79478629e-02-3.44077510e-04j, -1.16581582e-06-3.66655709e-07j,\n",
       "         2.76015058e-01-1.50525192e-01j, -1.50938628e-02+1.18369765e-03j]])\n",
       "Coordinates:\n",
       "  * wave_direction  (wave_direction) float64 0.0\n",
       "  * radiating_dof   (radiating_dof) <U22 'Surge' ... 'body_3__Relative_Pitch'\n",
       "    rho             float64 1.025e+03\n",
       "    body_name       <U11 'hinge_barge'\n",
       "    omega           float64 2.0\n",
       "    g               float64 9.81\n",
       "    water_depth     float64 inf"
      ]
     },
     "execution_count": 7,
     "metadata": {},
     "output_type": "execute_result"
    }
   ],
   "source": [
    "hb.compute_motion(\n",
    "    wave_amplitude=0.02,\n",
    "    pto={\n",
    "        'body_1__Relative_Pitch': 10,\n",
    "        'body_3__Relative_Pitch': 16,\n",
    "    },\n",
    "    viscous_dissipation=None,\n",
    ")\n",
    "hb.dataset[\"motion\"].sel(omega=2.0)"
   ]
  },
  {
   "cell_type": "code",
   "execution_count": 8,
   "metadata": {},
   "outputs": [
    {
     "data": {
      "text/plain": [
       "[<matplotlib.lines.Line2D at 0x7f5617143290>]"
      ]
     },
     "execution_count": 8,
     "metadata": {},
     "output_type": "execute_result"
    },
    {
     "data": {
      "image/png": "[encoded data removed]",
      "text/plain": [
       "<Figure size 432x288 with 1 Axes>"
      ]
     },
     "metadata": {
      "needs_background": "light"
     },
     "output_type": "display_data"
    }
   ],
   "source": [
    "hb.compute_power().plot()"
   ]
  }
 ],
 "metadata": {
  "kernelspec": {
   "display_name": "Python 3",
   "language": "python",
   "name": "python3"
  },
  "language_info": {
   "codemirror_mode": {
    "name": "ipython",
    "version": 3
   },
   "file_extension": ".py",
   "mimetype": "text/x-python",
   "name": "python",
   "nbconvert_exporter": "python",
   "pygments_lexer": "ipython3",
   "version": "3.7.6"
  }
 },
 "nbformat": 4,
 "nbformat_minor": 4
}
